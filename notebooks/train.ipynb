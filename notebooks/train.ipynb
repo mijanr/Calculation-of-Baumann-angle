{
 "cells": [
  {
   "cell_type": "code",
   "execution_count": 5,
   "metadata": {},
   "outputs": [],
   "source": [
    "import torch\n",
    "import torch.optim as optim\n",
    "\n",
    "from ResNet import CNN\n",
    "import get_data\n",
    "from get_data import Get_Data\n",
    "\n",
    "from dataLoader import CustomDataset\n",
    "import numpy as np\n",
    "import matplotlib.pyplot as plt\n",
    "import math"
   ]
  },
  {
   "cell_type": "code",
   "execution_count": 6,
   "metadata": {},
   "outputs": [],
   "source": [
    " #create a CNN model \n",
    "model = CNN(output_dim=8)"
   ]
  },
  {
   "cell_type": "code",
   "execution_count": 7,
   "metadata": {},
   "outputs": [
    {
     "data": {
      "text/plain": [
       "<All keys matched successfully>"
      ]
     },
     "execution_count": 7,
     "metadata": {},
     "output_type": "execute_result"
    }
   ],
   "source": [
    "model.load_state_dict(torch.load(\"model_ResNet-50.pt\"))"
   ]
  },
  {
   "cell_type": "code",
   "execution_count": 8,
   "metadata": {},
   "outputs": [],
   "source": [
    "#load the data\n",
    "imageH = 512\n",
    "imageW = 512\n",
    "key_points_path_train, key_points_path_test = Get_Data().patient_level_split()\n",
    "X_test, y_test = Get_Data().json_to_data(key_points_path_test, imageH, imageW)"
   ]
  },
  {
   "cell_type": "code",
   "execution_count": 9,
   "metadata": {},
   "outputs": [],
   "source": [
    "#make a testloader\n",
    "test_dataset = CustomDataset(X_test, y_test)\n",
    "test_loader = torch.utils.data.DataLoader(test_dataset, batch_size=8, shuffle=False)"
   ]
  },
  {
   "cell_type": "code",
   "execution_count": 10,
   "metadata": {},
   "outputs": [
    {
     "name": "stdout",
     "output_type": "stream",
     "text": [
      "58.222954\n",
      "96.40886\n",
      "4826.4316\n"
     ]
    }
   ],
   "source": [
    "for images, labels in test_loader:\n",
    "    images = images\n",
    "    outputs = model(images)\n",
    "    #make output 4x2\n",
    "    outputs = outputs.view(-1, 4, 2).cpu().detach().numpy()\n",
    "    labels = labels.view(-1, 4, 2).cpu().detach().numpy()\n",
    "    #calculate the mean error\n",
    "    mean_error = np.mean(np.sqrt(np.sum((outputs - labels)**2, axis=1)))\n",
    "    l1_error = np.mean(np.sum(np.abs(outputs - labels), axis=1))\n",
    "    l2_error = np.mean((np.sum((outputs - labels)**2, axis=1)))\n",
    "    print(mean_error)\n",
    "    print(l1_error)\n",
    "    print(l2_error)\n",
    "    break\n"
   ]
  },
  {
   "cell_type": "code",
   "execution_count": 11,
   "metadata": {},
   "outputs": [],
   "source": [
    "i = 0\n",
    "predicted = outputs[i]\n",
    "actual = labels[i]\n",
    "image = images[i]"
   ]
  },
  {
   "cell_type": "code",
   "execution_count": 14,
   "metadata": {},
   "outputs": [
    {
     "data": {
      "text/plain": [
       "array([[215.96562  ,  -1.1693283],\n",
       "       [184.15105  , 275.3732   ],\n",
       "       [158.28941  , 276.7888   ],\n",
       "       [233.2024   , 305.38358  ]], dtype=float32)"
      ]
     },
     "execution_count": 14,
     "metadata": {},
     "output_type": "execute_result"
    }
   ],
   "source": [
    "predicted"
   ]
  },
  {
   "cell_type": "code",
   "execution_count": null,
   "metadata": {},
   "outputs": [],
   "source": [
    "l1_one_image = np.mean(np.sum(np.abs(predicted - actual), axis=1))\n",
    "l2_one_image = np.mean(np.sum((predicted - actual)**2, axis=1))\n",
    "rmse_one_image = np.sqrt(l2_one_image)  "
   ]
  },
  {
   "cell_type": "code",
   "execution_count": null,
   "metadata": {},
   "outputs": [
    {
     "name": "stdout",
     "output_type": "stream",
     "text": [
      "52.360577\n",
      "1881.1316\n",
      "43.372013\n"
     ]
    }
   ],
   "source": [
    "print(l1_one_image)\n",
    "print(l2_one_image)\n",
    "print(rmse_one_image)"
   ]
  },
  {
   "cell_type": "code",
   "execution_count": null,
   "metadata": {},
   "outputs": [],
   "source": [
    "def slope(x1, y1, x2, y2): # Line slope given two points:\n",
    "    return (y2-y1)/(x2-x1)\n",
    "def calculateAngle(keyPt)->float:\n",
    "        '''\n",
    "        parameters:\n",
    "            keyPts: keypoints in ndarray\n",
    "        return:\n",
    "            angles: angles in ndarray\n",
    "        '''\n",
    "        #get the keypoints\n",
    "        shaft_1 = keyPt[0]\n",
    "        shaft_2 = keyPt[1]\n",
    "        tangent_1 = keyPt[2]\n",
    "        tangent_2 = keyPt[3]\n",
    "        s1 = slope(shaft_1[0], shaft_1[1], shaft_2[0], shaft_2[1])\n",
    "        s2 = slope(tangent_1[0], tangent_1[1], tangent_2[0], tangent_2[1])\n",
    "        #calculate the angle\n",
    "        angle = abs(np.arctan(s1) - np.arctan(s2))\n",
    "        #convert to degrees\n",
    "        angle = angle*180/math.pi\n",
    "        if angle<90:\n",
    "            angle = 180-angle\n",
    "        return angle"
   ]
  },
  {
   "cell_type": "code",
   "execution_count": null,
   "metadata": {},
   "outputs": [
    {
     "name": "stdout",
     "output_type": "stream",
     "text": [
      "Preicted angle:  104.32950032654396\n",
      "Actual angle:  130.10152709390576\n"
     ]
    }
   ],
   "source": [
    "print(\"Preicted angle: \",calculateAngle(predicted))\n",
    "print(\"Actual angle: \",calculateAngle(actual))"
   ]
  },
  {
   "cell_type": "code",
   "execution_count": null,
   "metadata": {},
   "outputs": [
    {
     "data": {
      "image/png": "[encoded data removed]",
      "text/plain": [
       "<Figure size 432x288 with 1 Axes>"
      ]
     },
     "metadata": {
      "needs_background": "light"
     },
     "output_type": "display_data"
    }
   ],
   "source": [
    "plt.imshow(image.squeeze().numpy(), cmap='gray')\n",
    "plt.plot([predicted[0][0], predicted[1][0]], [predicted[0][1], predicted[1][1]], 'r',label='Predicted')\n",
    "plt.plot([predicted[2][0], predicted[3][0]], [predicted[2][1], predicted[3][1]], 'r')\n",
    "plt.plot([actual[0][0], actual[1][0]], [actual[0][1], actual[1][1]], 'b', label='Ground Truth')\n",
    "plt.plot([actual[2][0], actual[3][0]], [actual[2][1], actual[3][1]], 'b')\n",
    "#add legends\n",
    "#red is predicted\n",
    "#blue is ground truth\n",
    "#plt.legend(['predicted', 'ground truth'])\n",
    "plt.show()"
   ]
  },
  {
   "cell_type": "code",
   "execution_count": null,
   "metadata": {},
   "outputs": [],
   "source": [
    "import matplotlib.pyplot as plt\n",
    "import PIL\n",
    "import numpy as np\n",
    "import math"
   ]
  },
  {
   "cell_type": "code",
   "execution_count": null,
   "metadata": {},
   "outputs": [],
   "source": [
    "img = plt.imread('image1.png', 'rb')\n",
    "\n",
    "if len(img.shape)>2:\n",
    "    img = np.mean(img, axis=2)\n",
    "\n",
    "img = PIL.Image.fromarray(img)\n",
    "img = img.resize((512, 512))\n",
    "img = np.array(img)    # (hxw)        \n",
    "img = np.expand_dims(img, axis=0)\n",
    "\n",
    "img = torch.from_numpy(img)\n",
    "#expand the dimension of img\n",
    "img = img.unsqueeze(0)\n"
   ]
  },
  {
   "cell_type": "code",
   "execution_count": null,
   "metadata": {},
   "outputs": [],
   "source": [
    "model.eval()\n",
    "with torch.no_grad():\n",
    "    output = model(img)\n",
    "    output = output.view(4,2)"
   ]
  },
  {
   "cell_type": "code",
   "execution_count": null,
   "metadata": {},
   "outputs": [
    {
     "data": {
      "text/plain": [
       "[<matplotlib.lines.Line2D at 0x7f62d007b2b0>]"
      ]
     },
     "execution_count": 31,
     "metadata": {},
     "output_type": "execute_result"
    },
    {
     "data": {
      "image/png": "[encoded data removed]",
      "text/plain": [
       "<Figure size 432x288 with 1 Axes>"
      ]
     },
     "metadata": {
      "needs_background": "light"
     },
     "output_type": "display_data"
    }
   ],
   "source": [
    "plt.imshow(img.squeeze().numpy(), cmap='gray')\n",
    "plt.plot([output[0][0], output[1,0]],[output[0][1],output[1][1]], 'r')\n",
    "plt.plot([output[2][0], output[3,0]],[output[2][1],output[3][1]], 'r')"
   ]
  },
  {
   "cell_type": "code",
   "execution_count": null,
   "metadata": {},
   "outputs": [
    {
     "data": {
      "text/plain": [
       "tensor([[101.7975,  71.2083],\n",
       "        [169.8077, 208.1676],\n",
       "        [147.7762, 200.3280],\n",
       "        [199.9157, 196.7566]])"
      ]
     },
     "execution_count": 32,
     "metadata": {},
     "output_type": "execute_result"
    }
   ],
   "source": [
    "output"
   ]
  },
  {
   "cell_type": "code",
   "execution_count": null,
   "metadata": {},
   "outputs": [],
   "source": [
    "def slope(x1, y1, x2, y2): # Line slope given two points:\n",
    "    return (y2-y1)/(x2-x1)\n",
    "def calculateAngle(keyPt)->float:\n",
    "        '''\n",
    "        parameters:\n",
    "            keyPts: keypoints in ndarray\n",
    "        return:\n",
    "            angles: angles in ndarray\n",
    "        '''\n",
    "        #get the keypoints\n",
    "        shaft_1 = keyPt[0]\n",
    "        shaft_2 = keyPt[1]\n",
    "        tangent_1 = keyPt[2]\n",
    "        tangent_2 = keyPt[3]\n",
    "        s1 = slope(shaft_1[0], shaft_1[1], shaft_2[0], shaft_2[1])\n",
    "        s2 = slope(tangent_1[0], tangent_1[1], tangent_2[0], tangent_2[1])\n",
    "        #calculate the angle\n",
    "        angle = abs(np.arctan(s1) - np.arctan(s2))\n",
    "        #convert to degrees\n",
    "        angle = angle*180/math.pi\n",
    "        if angle<90:\n",
    "            angle = 180-angle\n",
    "        return angle\n",
    "   "
   ]
  },
  {
   "cell_type": "code",
   "execution_count": null,
   "metadata": {},
   "outputs": [
    {
     "data": {
      "text/plain": [
       "tensor(112.4893)"
      ]
     },
     "execution_count": 34,
     "metadata": {},
     "output_type": "execute_result"
    }
   ],
   "source": [
    "calculateAngle(output)"
   ]
  },
  {
   "cell_type": "code",
   "execution_count": null,
   "metadata": {},
   "outputs": [],
   "source": []
  },
  {
   "cell_type": "code",
   "execution_count": null,
   "metadata": {},
   "outputs": [],
   "source": []
  }
 ],
 "metadata": {
  "interpreter": {
   "hash": "8083148c435d231f703449331507e72b23a2d1daf1c5ab6243dbd5548bf4abd5"
  },
  "kernelspec": {
   "display_name": "Python 3.8.11 64-bit ('base': conda)",
   "language": "python",
   "name": "python3"
  },
  "language_info": {
   "codemirror_mode": {
    "name": "ipython",
    "version": 3
   },
   "file_extension": ".py",
   "mimetype": "text/x-python",
   "name": "python",
   "nbconvert_exporter": "python",
   "pygments_lexer": "ipython3",
   "version": "3.9.7"
  },
  "orig_nbformat": 4
 },
 "nbformat": 4,
 "nbformat_minor": 2
}
