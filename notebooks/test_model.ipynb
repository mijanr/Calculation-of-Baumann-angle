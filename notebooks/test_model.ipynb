{
 "cells": [
  {
   "cell_type": "code",
   "execution_count": 1,
   "metadata": {},
   "outputs": [
    {
     "name": "stderr",
     "output_type": "stream",
     "text": [
      "Using cache found in /home/hpc/rzku/mlvl043h/.cache/torch/hub/pytorch_vision_v0.6.0\n"
     ]
    }
   ],
   "source": [
    "import pandas as pd\n",
    "import numpy as np\n",
    "import torch\n",
    "import matplotlib.pyplot as plt\n",
    "from ResNet import CNN\n",
    "import matplotlib.pyplot as plt\n",
    "import PIL\n",
    "import numpy as np\n",
    "import math\n",
    "\n",
    "from tqdm import trange\n",
    "import torch.optim as optim\n",
    "import torch\n",
    "import torch.nn as nn\n",
    "from dataLoader import CustomDataset\n",
    "import torch.nn.functional as F\n",
    "from get_data import Get_Data\n",
    "import matplotlib.pyplot as plt\n",
    "from sklearn.model_selection import KFold\n",
    "import albumentations as A\n",
    "import get_data \n",
    "import importlib"
   ]
  },
  {
   "cell_type": "code",
   "execution_count": 2,
   "metadata": {},
   "outputs": [],
   "source": [
    "#load the data\n",
    "imageH = 512\n",
    "imageW = 512\n",
    "\n",
    "key_points_path_train, key_points_path_test = Get_Data().patient_level_split()\n",
    "#X_train, y_train = Get_Data().json_to_data(key_points_path_train, imageH, imageW)\n",
    "X_test, y_test = Get_Data().json_to_data(key_points_path_test, imageH, imageW)"
   ]
  },
  {
   "cell_type": "code",
   "execution_count": 3,
   "metadata": {},
   "outputs": [
    {
     "name": "stdout",
     "output_type": "stream",
     "text": [
      "173\n",
      "18\n"
     ]
    }
   ],
   "source": [
    "print(len(key_points_path_train))\n",
    "print(len(key_points_path_test))"
   ]
  },
  {
   "cell_type": "code",
   "execution_count": 7,
   "metadata": {},
   "outputs": [
    {
     "data": {
      "text/plain": [
       "29"
      ]
     },
     "execution_count": 7,
     "metadata": {},
     "output_type": "execute_result"
    }
   ],
   "source": [
    "191 - int((173+18)*0.85)"
   ]
  },
  {
   "cell_type": "code",
   "execution_count": 4,
   "metadata": {},
   "outputs": [],
   "source": [
    "#make a testloader\n",
    "test_dataset = CustomDataset(X_test, y_test)\n",
    "test_loader = torch.utils.data.DataLoader(test_dataset, batch_size=8, shuffle=False)"
   ]
  },
  {
   "cell_type": "code",
   "execution_count": 5,
   "metadata": {},
   "outputs": [],
   "source": [
    "def slope(x1, y1, x2, y2): # Line slope given two points:\n",
    "    return (y2-y1)/(x2-x1)\n",
    "def calculateAngle(keyPt)->float:\n",
    "        '''\n",
    "        parameters:\n",
    "            keyPts: keypoints in ndarray\n",
    "        return:\n",
    "            angles: angles in ndarray\n",
    "        '''\n",
    "        #get the keypoints\n",
    "        shaft_1 = keyPt[0]\n",
    "        shaft_2 = keyPt[1]\n",
    "        tangent_1 = keyPt[2]\n",
    "        tangent_2 = keyPt[3]\n",
    "        s1 = slope(shaft_1[0], shaft_1[1], shaft_2[0], shaft_2[1])\n",
    "        s2 = slope(tangent_1[0], tangent_1[1], tangent_2[0], tangent_2[1])\n",
    "        #calculate the angle\n",
    "        angle = abs(np.arctan(s1) - np.arctan(s2))\n",
    "        #convert to degrees\n",
    "        angle = angle*180/math.pi\n",
    "        if angle<90:\n",
    "            angle = 180-angle\n",
    "        return angle"
   ]
  },
  {
   "cell_type": "code",
   "execution_count": 109,
   "metadata": {},
   "outputs": [
    {
     "name": "stdout",
     "output_type": "stream",
     "text": [
      "MSE:  1660.1588541666667\n",
      "MAE:  12.76664267645942\n",
      "RMSE:  16.55206396810763\n",
      "tensor(123.0374)\n",
      "tensor(118.4219)\n"
     ]
    }
   ],
   "source": [
    "model_1 = CNN(8)\n",
    "\n",
    "model_1.load_state_dict(torch.load(\"model_folds/model_fold_1.pt\"))\n",
    "\n",
    "\n",
    "model_1.eval()\n",
    "with torch.no_grad():\n",
    "    #calculate the loss\n",
    "    mse = 0\n",
    "    mae = 0\n",
    "    rmse = 0\n",
    "    pred_angle_1 = 0\n",
    "    actual_angle_1 = 0\n",
    "\n",
    "    angle_stats_1 = dict()\n",
    "    angle_stats_1[\"Actual\"] = []\n",
    "    angle_stats_1[\"Predicted\"] = []\n",
    "    \n",
    "    for i, (X, y) in enumerate(test_loader):\n",
    "        output = model_1(X).view(-1, 4,2)\n",
    "        #calculate the loss\n",
    "        mse += F.mse_loss(output, y).item()\n",
    "        mae += F.l1_loss(output, y).item()\n",
    "        rmse += math.sqrt(F.mse_loss(output, y).item())\n",
    "        #calculate the angle\n",
    "        for j in range(len(y)):\n",
    "            pred_angle_1 += calculateAngle(output[j])\n",
    "            actual_angle_1 += calculateAngle(y[j])\n",
    "            angle_stats_1[\"Predicted\"].append(calculateAngle(output[j]))\n",
    "            angle_stats_1[\"Actual\"].append(calculateAngle(y[j]))\n",
    "\n",
    "pred_angle_1 = pred_angle_1/len(test_dataset)\n",
    "actual_angle_1 = actual_angle_1/len(test_dataset)\n",
    "mse = mse/len(test_dataset)\n",
    "mae = mae/len(test_dataset)\n",
    "rmse = rmse/len(test_dataset)\n",
    "\n",
    "print(\"MSE: \", mse)\n",
    "print(\"MAE: \", mae)\n",
    "print(\"RMSE: \", rmse)\n",
    "print(pred_angle_1)\n",
    "print(actual_angle_1)\n",
    "\n",
    "df_1 = pd.DataFrame(columns=[\"MSE\", \"MAE\", \"RMSE\", \"Predicted Angle\", \"Actual Angle\"])\n",
    "df_1.loc[0] = [mse, mae, rmse, pred_angle_1, actual_angle_1]"
   ]
  },
  {
   "cell_type": "code",
   "execution_count": 111,
   "metadata": {},
   "outputs": [
    {
     "ename": "AttributeError",
     "evalue": "'list' object has no attribute 'appen'",
     "output_type": "error",
     "traceback": [
      "\u001b[0;31m---------------------------------------------------------------------------\u001b[0m",
      "\u001b[0;31mAttributeError\u001b[0m                            Traceback (most recent call last)",
      "\u001b[0;32m/tmp/ipykernel_61872/2473884786.py\u001b[0m in \u001b[0;36m<module>\u001b[0;34m\u001b[0m\n\u001b[1;32m     27\u001b[0m             \u001b[0mactual_angle_2\u001b[0m \u001b[0;34m+=\u001b[0m \u001b[0mcalculateAngle\u001b[0m\u001b[0;34m(\u001b[0m\u001b[0my\u001b[0m\u001b[0;34m[\u001b[0m\u001b[0mj\u001b[0m\u001b[0;34m]\u001b[0m\u001b[0;34m)\u001b[0m\u001b[0;34m\u001b[0m\u001b[0;34m\u001b[0m\u001b[0m\n\u001b[1;32m     28\u001b[0m             \u001b[0mangle_stats_2\u001b[0m\u001b[0;34m[\u001b[0m\u001b[0;34m\"Predicted\"\u001b[0m\u001b[0;34m]\u001b[0m\u001b[0;34m.\u001b[0m\u001b[0mappend\u001b[0m\u001b[0;34m(\u001b[0m \u001b[0mcalculateAngle\u001b[0m\u001b[0;34m(\u001b[0m\u001b[0moutput\u001b[0m\u001b[0;34m[\u001b[0m\u001b[0mj\u001b[0m\u001b[0;34m]\u001b[0m\u001b[0;34m)\u001b[0m\u001b[0;34m)\u001b[0m\u001b[0;34m\u001b[0m\u001b[0;34m\u001b[0m\u001b[0m\n\u001b[0;32m---> 29\u001b[0;31m             \u001b[0mangle_stats_2\u001b[0m\u001b[0;34m[\u001b[0m\u001b[0;34m\"Actual\"\u001b[0m\u001b[0;34m]\u001b[0m\u001b[0;34m.\u001b[0m\u001b[0mappen\u001b[0m\u001b[0;34m(\u001b[0m \u001b[0mcalculateAngle\u001b[0m\u001b[0;34m(\u001b[0m\u001b[0my\u001b[0m\u001b[0;34m[\u001b[0m\u001b[0mj\u001b[0m\u001b[0;34m]\u001b[0m\u001b[0;34m)\u001b[0m\u001b[0;34m)\u001b[0m\u001b[0;34m\u001b[0m\u001b[0;34m\u001b[0m\u001b[0m\n\u001b[0m\u001b[1;32m     30\u001b[0m \u001b[0;34m\u001b[0m\u001b[0m\n\u001b[1;32m     31\u001b[0m \u001b[0mpred_angle_2\u001b[0m \u001b[0;34m=\u001b[0m \u001b[0mpred_angle_2\u001b[0m\u001b[0;34m/\u001b[0m\u001b[0mlen\u001b[0m\u001b[0;34m(\u001b[0m\u001b[0mtest_dataset\u001b[0m\u001b[0;34m)\u001b[0m\u001b[0;34m\u001b[0m\u001b[0;34m\u001b[0m\u001b[0m\n",
      "\u001b[0;31mAttributeError\u001b[0m: 'list' object has no attribute 'appen'"
     ]
    }
   ],
   "source": [
    "model_2 = CNN(8)\n",
    "\n",
    "model_2.load_state_dict(torch.load(\"model_folds/model_fold_2.pt\"))\n",
    "\n",
    "\n",
    "model_2.eval()\n",
    "with torch.no_grad():\n",
    "    #calculate the loss\n",
    "    mse = 0\n",
    "    mae = 0\n",
    "    rmse = 0\n",
    "    pred_angle_2 = 0\n",
    "    actual_angle_2 = 0\n",
    "    angle_stats_2 = dict()\n",
    "    angle_stats_2[\"Actual\"] = []\n",
    "    angle_stats_2[\"Predicted\"] = []\n",
    "\n",
    "    for i, (X, y) in enumerate(test_loader):\n",
    "        output = model_2(X).view(-1, 4,2)\n",
    "        #calculate the loss\n",
    "        mse += F.mse_loss(output, y).item()\n",
    "        mae += F.l1_loss(output, y).item()\n",
    "        rmse += math.sqrt(F.mse_loss(output, y).item())\n",
    "        #calculate the angle\n",
    "        for j in range(len(y)):\n",
    "            pred_angle_2 += calculateAngle(output[j])\n",
    "            actual_angle_2 += calculateAngle(y[j])\n",
    "            angle_stats_2[\"Predicted\"].append( calculateAngle(output[j]))\n",
    "            angle_stats_2[\"Actual\"].appen( calculateAngle(y[j]))\n",
    "\n",
    "pred_angle_2 = pred_angle_2/len(test_dataset)\n",
    "actual_angle_2 = actual_angle_2/len(test_dataset)\n",
    "mse = mse/len(test_dataset)\n",
    "mae = mae/len(test_dataset)\n",
    "rmse = rmse/len(test_dataset)\n",
    "\n",
    "\n",
    "print(\"MSE: \", mse)\n",
    "print(\"MAE: \", mae)\n",
    "print(\"RMSE: \", rmse)\n",
    "print(\"Predicted angle\",pred_angle_2)\n",
    "print(\"Actual angle\",actual_angle_2)\n",
    "\n",
    "\n",
    "\n",
    "df_2 = pd.DataFrame(columns=[\"MSE\", \"MAE\", \"RMSE\", \"Predicted Angle\", \"Actual Angle\"])\n",
    "df_2.loc[0] = [mse, mae, rmse, pred_angle_2, actual_angle_2]"
   ]
  },
  {
   "cell_type": "code",
   "execution_count": 112,
   "metadata": {},
   "outputs": [
    {
     "name": "stdout",
     "output_type": "stream",
     "text": [
      "MSE:  269.05953640407984\n",
      "MAE:  4.744965765211317\n",
      "RMSE:  6.5307785794659\n",
      "Predicted angle tensor(119.9367)\n",
      "Actual angle tensor(118.4219)\n"
     ]
    }
   ],
   "source": [
    "model_3 = CNN(8)\n",
    "\n",
    "model_3.load_state_dict(torch.load(\"model_folds/model_fold_3.pt\"))\n",
    "\n",
    "\n",
    "model_3.eval()\n",
    "with torch.no_grad():\n",
    "    #calculate the loss\n",
    "    mse = 0\n",
    "    mae = 0\n",
    "    rmse = 0\n",
    "    pred_angle_3 = 0\n",
    "    actual_angle_3 = 0\n",
    "\n",
    "    angle_stats_3 = dict()\n",
    "    angle_stats_3[\"Actual\"] = []\n",
    "    angle_stats_3[\"Predicted\"] = []\n",
    "\n",
    "    for i, (X, y) in enumerate(test_loader):\n",
    "        output = model_3(X).view(-1, 4,2)\n",
    "        #calculate the loss\n",
    "        mse += F.mse_loss(output, y).item()\n",
    "        mae += F.l1_loss(output, y).item()\n",
    "        rmse += math.sqrt(F.mse_loss(output, y).item())\n",
    "        #calculate the angle\n",
    "        for j in range(len(y)):\n",
    "            pred_angle_3 += calculateAngle(output[j])\n",
    "            actual_angle_3 += calculateAngle(y[j])\n",
    "\n",
    "            angle_stats_3[\"Predicted\"].append (calculateAngle(output[j]))\n",
    "            angle_stats_3[\"Actual\"].append(calculateAngle(y[j]))\n",
    "\n",
    "\n",
    "mse = mse/len(test_dataset)\n",
    "mae = mae/len(test_dataset)\n",
    "rmse = rmse/len(test_dataset)\n",
    "pred_angle_3 = pred_angle_3/len(test_dataset)\n",
    "actual_angle_3 = actual_angle_3/len(test_dataset)\n",
    "\n",
    "print(\"MSE: \", mse)\n",
    "print(\"MAE: \", mae)\n",
    "print(\"RMSE: \", rmse)\n",
    "print(\"Predicted angle\",pred_angle_3)\n",
    "print(\"Actual angle\",actual_angle_3)\n",
    "\n",
    "df_3 = pd.DataFrame(columns=[\"MSE\", \"MAE\", \"RMSE\", \"Predicted Angle\", \"Actual Angle\"])\n",
    "df_3.loc[0] = [mse, mae, rmse, pred_angle_3, actual_angle_3]"
   ]
  },
  {
   "cell_type": "code",
   "execution_count": 113,
   "metadata": {},
   "outputs": [
    {
     "name": "stdout",
     "output_type": "stream",
     "text": [
      "MSE:  11454.200954861111\n",
      "MAE:  39.88936021592882\n",
      "RMSE:  43.68086660366611\n",
      "Predicted angle 121.72915747974986\n",
      "Actual angle 118.42192414177242\n"
     ]
    }
   ],
   "source": [
    "model_4 = CNN(8)\n",
    "\n",
    "model_3.load_state_dict(torch.load(\"model_folds/model_fold_4.pt\"))\n",
    "\n",
    "\n",
    "model_4.eval()\n",
    "with torch.no_grad():\n",
    "    #calculate the loss\n",
    "    mse = 0\n",
    "    mae = 0\n",
    "    rmse = 0\n",
    "    pred_angle_4 = 0\n",
    "    actual_angle_4 = 0\n",
    "\n",
    "    angle_stats_4 = dict()\n",
    "    angle_stats_4[\"Actual\"] = []\n",
    "    angle_stats_4[\"Predicted\"] = []\n",
    "\n",
    "\n",
    "    for i, (X, y) in enumerate(test_loader):\n",
    "        output = model_4(X).view(-1, 4,2)\n",
    "        #calculate the loss\n",
    "        mse += F.mse_loss(output, y).item()\n",
    "        mae += F.l1_loss(output, y).item()\n",
    "        rmse += math.sqrt(F.mse_loss(output, y).item())\n",
    "        #calculate the angle\n",
    "        for i in range(len(output)):\n",
    "            pred_angle_4 += calculateAngle(output.detach().numpy()[i])\n",
    "            actual_angle_4 += calculateAngle(y.detach().numpy()[i])\n",
    "\n",
    "            angle_stats_4[\"Predicted\"].append( calculateAngle(output.detach().numpy()[i]))\n",
    "            angle_stats_4[\"Actual\"].append(calculateAngle(y.detach().numpy()[i]))\n",
    "       \n",
    "\n",
    "mse = mse/len(test_dataset)\n",
    "mae = mae/len(test_dataset)\n",
    "rmse = rmse/len(test_dataset)\n",
    "pred_angle_4 = pred_angle_4/len(test_dataset)\n",
    "actual_angle_4 = actual_angle_4/len(test_dataset)\n",
    "\n",
    "print(\"MSE: \", mse)\n",
    "print(\"MAE: \", mae)\n",
    "print(\"RMSE: \", rmse)\n",
    "print(\"Predicted angle\",pred_angle_4)\n",
    "print(\"Actual angle\",actual_angle_4)\n",
    "\n",
    "df_4 = pd.DataFrame(columns=[\"MSE\", \"MAE\", \"RMSE\", \"Predicted Angle\", \"Actual Angle\"])\n",
    "df_4.loc[0] = [mse, mae, rmse, pred_angle_4, actual_angle_4]"
   ]
  },
  {
   "cell_type": "code",
   "execution_count": 114,
   "metadata": {},
   "outputs": [
    {
     "name": "stdout",
     "output_type": "stream",
     "text": [
      "MSE:  267.10873074001734\n",
      "MAE:  4.499505678812663\n",
      "RMSE:  6.609177691692427\n",
      "Predicted angle 125.92976215701557\n",
      "Actual angle 118.42192414177242\n"
     ]
    }
   ],
   "source": [
    "model_5 = CNN(8)\n",
    "\n",
    "model_5.load_state_dict(torch.load(\"model_folds/model_fold_5.pt\"))\n",
    "\n",
    "\n",
    "model_5.eval()\n",
    "with torch.no_grad():\n",
    "    #calculate the loss\n",
    "    mse = 0\n",
    "    mae = 0\n",
    "    rmse = 0\n",
    "    pred_angle_5 = 0\n",
    "    actual_angle_5 = 0\n",
    "\n",
    "    angle_stats_5 = dict()\n",
    "    angle_stats_5[\"Actual\"] = []\n",
    "    angle_stats_5[\"Predicted\"] = []\n",
    "\n",
    "    for i, (X, y) in enumerate(test_loader):\n",
    "        output = model_5(X).view(-1, 4,2)\n",
    "        #calculate the loss\n",
    "        mse += F.mse_loss(output, y).item()\n",
    "        mae += F.l1_loss(output, y).item()\n",
    "        rmse += math.sqrt(F.mse_loss(output, y).item())\n",
    "        #calculate the angle\n",
    "        # pred_angle_5 += calculateAngle(output.detach().numpy()[0])\n",
    "        # actual_angle_5 += calculateAngle(y.detach().numpy()[0])\n",
    "        for i in range(len(output)):\n",
    "            pred_angle_5 += calculateAngle(output.detach().numpy()[i])\n",
    "            actual_angle_5 += calculateAngle(y.detach().numpy()[i])\n",
    "\n",
    "            angle_stats_5[\"Predicted\"].append( calculateAngle(output.detach().numpy()[i]))\n",
    "            angle_stats_5[\"Actual\"].append( calculateAngle(y.detach().numpy()[i]))\n",
    "\n",
    "mse = mse/len(test_dataset)\n",
    "mae = mae/len(test_dataset)\n",
    "rmse = rmse/len(test_dataset)\n",
    "pred_angle_5 = pred_angle_5/len(test_dataset)\n",
    "actual_angle_5 = actual_angle_5/len(test_dataset)\n",
    "\n",
    "\n",
    "print(\"MSE: \", mse)\n",
    "print(\"MAE: \", mae)\n",
    "print(\"RMSE: \", rmse)\n",
    "print(\"Predicted angle\",pred_angle_5)\n",
    "print(\"Actual angle\",actual_angle_5)\n",
    "\n",
    "\n",
    "df_5 = pd.DataFrame(columns=[\"MSE\", \"MAE\", \"RMSE\", \"Predicted Angle\", \"Actual Angle\"])\n",
    "df_5.loc[0] = [mse, mae, rmse, pred_angle_5, actual_angle_5]"
   ]
  },
  {
   "cell_type": "code",
   "execution_count": 115,
   "metadata": {},
   "outputs": [],
   "source": [
    "df = pd.concat([df_1, df_2, df_3, df_4, df_5])"
   ]
  },
  {
   "cell_type": "code",
   "execution_count": 116,
   "metadata": {},
   "outputs": [],
   "source": [
    "#make index as the fold number\n",
    "df.index = [\"Fold_1\", \"Fold_2\", \"Fold_3\", \"Fold_4\", \"Fold_5\"]\n"
   ]
  },
  {
   "cell_type": "code",
   "execution_count": 166,
   "metadata": {},
   "outputs": [],
   "source": [
    "df['Predicted Angle'] = df['Predicted Angle'].astype(float)\n",
    "df['Actual Angle'] = df['Actual Angle'].astype(float)\n",
    "#take two decimal places\n",
    "df['Predicted Angle'] = df['Predicted Angle'].round(2)\n",
    "df['Actual Angle'] = df['Actual Angle'].round(2)\n",
    "df['MSE'] = df['MSE'].round(2)\n",
    "df['MAE'] = df['MAE'].round(2)\n",
    "df['RMSE'] = df['RMSE'].round(2)"
   ]
  },
  {
   "cell_type": "code",
   "execution_count": 167,
   "metadata": {},
   "outputs": [
    {
     "data": {
      "text/html": [
       "<div>\n",
       "<style scoped>\n",
       "    .dataframe tbody tr th:only-of-type {\n",
       "        vertical-align: middle;\n",
       "    }\n",
       "\n",
       "    .dataframe tbody tr th {\n",
       "        vertical-align: top;\n",
       "    }\n",
       "\n",
       "    .dataframe thead th {\n",
       "        text-align: right;\n",
       "    }\n",
       "</style>\n",
       "<table border=\"1\" class=\"dataframe\">\n",
       "  <thead>\n",
       "    <tr style=\"text-align: right;\">\n",
       "      <th></th>\n",
       "      <th>MSE</th>\n",
       "      <th>MAE</th>\n",
       "      <th>RMSE</th>\n",
       "      <th>Predicted Angle</th>\n",
       "      <th>Actual Angle</th>\n",
       "    </tr>\n",
       "  </thead>\n",
       "  <tbody>\n",
       "    <tr>\n",
       "      <th>Fold_1</th>\n",
       "      <td>1660.16</td>\n",
       "      <td>12.77</td>\n",
       "      <td>16.55</td>\n",
       "      <td>123.04</td>\n",
       "      <td>118.42</td>\n",
       "    </tr>\n",
       "    <tr>\n",
       "      <th>Fold_2</th>\n",
       "      <td>373.88</td>\n",
       "      <td>5.25</td>\n",
       "      <td>7.86</td>\n",
       "      <td>124.22</td>\n",
       "      <td>118.42</td>\n",
       "    </tr>\n",
       "    <tr>\n",
       "      <th>Fold_3</th>\n",
       "      <td>269.06</td>\n",
       "      <td>4.74</td>\n",
       "      <td>6.53</td>\n",
       "      <td>119.94</td>\n",
       "      <td>118.42</td>\n",
       "    </tr>\n",
       "    <tr>\n",
       "      <th>Fold_4</th>\n",
       "      <td>11454.20</td>\n",
       "      <td>39.89</td>\n",
       "      <td>43.68</td>\n",
       "      <td>121.73</td>\n",
       "      <td>118.42</td>\n",
       "    </tr>\n",
       "    <tr>\n",
       "      <th>Fold_5</th>\n",
       "      <td>267.11</td>\n",
       "      <td>4.50</td>\n",
       "      <td>6.61</td>\n",
       "      <td>125.93</td>\n",
       "      <td>118.42</td>\n",
       "    </tr>\n",
       "  </tbody>\n",
       "</table>\n",
       "</div>"
      ],
      "text/plain": [
       "             MSE    MAE   RMSE  Predicted Angle  Actual Angle\n",
       "Fold_1   1660.16  12.77  16.55           123.04        118.42\n",
       "Fold_2    373.88   5.25   7.86           124.22        118.42\n",
       "Fold_3    269.06   4.74   6.53           119.94        118.42\n",
       "Fold_4  11454.20  39.89  43.68           121.73        118.42\n",
       "Fold_5    267.11   4.50   6.61           125.93        118.42"
      ]
     },
     "execution_count": 167,
     "metadata": {},
     "output_type": "execute_result"
    }
   ],
   "source": [
    "df"
   ]
  },
  {
   "cell_type": "code",
   "execution_count": 160,
   "metadata": {},
   "outputs": [],
   "source": [
    "import pandas as pd\n",
    "import numpy as np\n",
    "import dataframe_image as dfi"
   ]
  },
  {
   "cell_type": "code",
   "execution_count": 161,
   "metadata": {},
   "outputs": [],
   "source": [
    "df_styled = df.style.background_gradient(cmap='tab10')"
   ]
  },
  {
   "cell_type": "code",
   "execution_count": 165,
   "metadata": {},
   "outputs": [
    {
     "data": {
      "text/html": [
       "<style type=\"text/css\">\n",
       "#T_0d1a0_row0_col0 {\n",
       "  background-color: #ff7f0e;\n",
       "  color: #f1f1f1;\n",
       "}\n",
       "#T_0d1a0_row0_col1, #T_0d1a0_row0_col2, #T_0d1a0_row3_col3 {\n",
       "  background-color: #2ca02c;\n",
       "  color: #f1f1f1;\n",
       "}\n",
       "#T_0d1a0_row0_col3 {\n",
       "  background-color: #8c564b;\n",
       "  color: #f1f1f1;\n",
       "}\n",
       "#T_0d1a0_row0_col4, #T_0d1a0_row1_col0, #T_0d1a0_row1_col1, #T_0d1a0_row1_col2, #T_0d1a0_row1_col4, #T_0d1a0_row2_col0, #T_0d1a0_row2_col1, #T_0d1a0_row2_col2, #T_0d1a0_row2_col3, #T_0d1a0_row2_col4, #T_0d1a0_row3_col4, #T_0d1a0_row4_col0, #T_0d1a0_row4_col1, #T_0d1a0_row4_col2, #T_0d1a0_row4_col4 {\n",
       "  background-color: #1f77b4;\n",
       "  color: #f1f1f1;\n",
       "}\n",
       "#T_0d1a0_row1_col3 {\n",
       "  background-color: #7f7f7f;\n",
       "  color: #f1f1f1;\n",
       "}\n",
       "#T_0d1a0_row3_col0, #T_0d1a0_row3_col1, #T_0d1a0_row3_col2, #T_0d1a0_row4_col3 {\n",
       "  background-color: #17becf;\n",
       "  color: #000000;\n",
       "}\n",
       "</style>\n",
       "<table id=\"T_0d1a0_\">\n",
       "  <thead>\n",
       "    <tr>\n",
       "      <th class=\"blank level0\" >&nbsp;</th>\n",
       "      <th class=\"col_heading level0 col0\" >MSE</th>\n",
       "      <th class=\"col_heading level0 col1\" >MAE</th>\n",
       "      <th class=\"col_heading level0 col2\" >RMSE</th>\n",
       "      <th class=\"col_heading level0 col3\" >Predicted Angle</th>\n",
       "      <th class=\"col_heading level0 col4\" >Actual Angle</th>\n",
       "    </tr>\n",
       "  </thead>\n",
       "  <tbody>\n",
       "    <tr>\n",
       "      <th id=\"T_0d1a0_level0_row0\" class=\"row_heading level0 row0\" >Fold_1</th>\n",
       "      <td id=\"T_0d1a0_row0_col0\" class=\"data row0 col0\" >1660.158854</td>\n",
       "      <td id=\"T_0d1a0_row0_col1\" class=\"data row0 col1\" >12.766643</td>\n",
       "      <td id=\"T_0d1a0_row0_col2\" class=\"data row0 col2\" >16.552064</td>\n",
       "      <td id=\"T_0d1a0_row0_col3\" class=\"data row0 col3\" >123.040000</td>\n",
       "      <td id=\"T_0d1a0_row0_col4\" class=\"data row0 col4\" >118.420000</td>\n",
       "    </tr>\n",
       "    <tr>\n",
       "      <th id=\"T_0d1a0_level0_row1\" class=\"row_heading level0 row1\" >Fold_2</th>\n",
       "      <td id=\"T_0d1a0_row1_col0\" class=\"data row1 col0\" >373.876580</td>\n",
       "      <td id=\"T_0d1a0_row1_col1\" class=\"data row1 col1\" >5.254853</td>\n",
       "      <td id=\"T_0d1a0_row1_col2\" class=\"data row1 col2\" >7.857955</td>\n",
       "      <td id=\"T_0d1a0_row1_col3\" class=\"data row1 col3\" >124.220000</td>\n",
       "      <td id=\"T_0d1a0_row1_col4\" class=\"data row1 col4\" >118.420000</td>\n",
       "    </tr>\n",
       "    <tr>\n",
       "      <th id=\"T_0d1a0_level0_row2\" class=\"row_heading level0 row2\" >Fold_3</th>\n",
       "      <td id=\"T_0d1a0_row2_col0\" class=\"data row2 col0\" >269.059536</td>\n",
       "      <td id=\"T_0d1a0_row2_col1\" class=\"data row2 col1\" >4.744966</td>\n",
       "      <td id=\"T_0d1a0_row2_col2\" class=\"data row2 col2\" >6.530779</td>\n",
       "      <td id=\"T_0d1a0_row2_col3\" class=\"data row2 col3\" >119.940000</td>\n",
       "      <td id=\"T_0d1a0_row2_col4\" class=\"data row2 col4\" >118.420000</td>\n",
       "    </tr>\n",
       "    <tr>\n",
       "      <th id=\"T_0d1a0_level0_row3\" class=\"row_heading level0 row3\" >Fold_4</th>\n",
       "      <td id=\"T_0d1a0_row3_col0\" class=\"data row3 col0\" >11454.200955</td>\n",
       "      <td id=\"T_0d1a0_row3_col1\" class=\"data row3 col1\" >39.889360</td>\n",
       "      <td id=\"T_0d1a0_row3_col2\" class=\"data row3 col2\" >43.680867</td>\n",
       "      <td id=\"T_0d1a0_row3_col3\" class=\"data row3 col3\" >121.730000</td>\n",
       "      <td id=\"T_0d1a0_row3_col4\" class=\"data row3 col4\" >118.420000</td>\n",
       "    </tr>\n",
       "    <tr>\n",
       "      <th id=\"T_0d1a0_level0_row4\" class=\"row_heading level0 row4\" >Fold_5</th>\n",
       "      <td id=\"T_0d1a0_row4_col0\" class=\"data row4 col0\" >267.108731</td>\n",
       "      <td id=\"T_0d1a0_row4_col1\" class=\"data row4 col1\" >4.499506</td>\n",
       "      <td id=\"T_0d1a0_row4_col2\" class=\"data row4 col2\" >6.609178</td>\n",
       "      <td id=\"T_0d1a0_row4_col3\" class=\"data row4 col3\" >125.930000</td>\n",
       "      <td id=\"T_0d1a0_row4_col4\" class=\"data row4 col4\" >118.420000</td>\n",
       "    </tr>\n",
       "  </tbody>\n",
       "</table>\n"
      ],
      "text/plain": [
       "<pandas.io.formats.style.Styler at 0x7f8115ffa490>"
      ]
     },
     "execution_count": 165,
     "metadata": {},
     "output_type": "execute_result"
    }
   ],
   "source": [
    "df_styled"
   ]
  },
  {
   "cell_type": "code",
   "execution_count": 163,
   "metadata": {},
   "outputs": [],
   "source": [
    "mean_pred_1 = np.array(angle_stats_1[\"Predicted\"]).mean()\n",
    "mean_actual_1 = np.array(angle_stats_1[\"Actual\"]).mean()\n",
    "std_pred_1 = np.array(angle_stats_1[\"Predicted\"]).std()\n",
    "std_actual_1 = np.array(angle_stats_1[\"Actual\"]).std()\n",
    "\n",
    "\n",
    "# mean_pred_2 = np.array(angle_stats_2[\"Predicted\"]).mean()\n",
    "# mean_actual_2 = np.array(angle_stats_2[\"Actual\"]).mean()\n",
    "# std_pred_2 = np.array(angle_stats_2[\"Predicted\"]).std()\n",
    "# std_actual_2 = np.array(angle_stats_2[\"Actual\"]).std()\n",
    "\n",
    "mean_pred_3 = np.array(angle_stats_3[\"Predicted\"]).mean()\n",
    "mean_actual_3 = np.array(angle_stats_3[\"Actual\"]).mean()\n",
    "std_pred_3 = np.array(angle_stats_3[\"Predicted\"]).std()\n",
    "std_actual_3 = np.array(angle_stats_3[\"Actual\"]).std()\n",
    "\n",
    "\n",
    "mean_pred_4 = np.array(angle_stats_4[\"Predicted\"]).mean()\n",
    "mean_actual_4 = np.array(angle_stats_4[\"Actual\"]).mean()\n",
    "std_pred_4 = np.array(angle_stats_4[\"Predicted\"]).std()\n",
    "std_actual_4 = np.array(angle_stats_4[\"Actual\"]).std()\n",
    "\n",
    "\n",
    "mean_pred_5 = np.array(angle_stats_5[\"Predicted\"]).mean()\n",
    "mean_actual_5 = np.array(angle_stats_5[\"Actual\"]).mean()\n",
    "std_pred_5 = np.array(angle_stats_5[\"Predicted\"]).std()\n",
    "std_actual_5 = np.array(angle_stats_5[\"Actual\"]).std()\n",
    "\n"
   ]
  },
  {
   "cell_type": "code",
   "execution_count": 141,
   "metadata": {},
   "outputs": [
    {
     "data": {
      "text/plain": [
       "119.9367"
      ]
     },
     "execution_count": 141,
     "metadata": {},
     "output_type": "execute_result"
    }
   ],
   "source": [
    "mean_pred_3"
   ]
  },
  {
   "cell_type": "code",
   "execution_count": 150,
   "metadata": {},
   "outputs": [],
   "source": [
    "mean_3 = []\n",
    "for i in range(len(angle_stats_3[\"Predicted\"])):\n",
    "    mean_3.append(abs(angle_stats_3[\"Predicted\"][i] - angle_stats_3[\"Actual\"][i]))\n"
   ]
  },
  {
   "cell_type": "code",
   "execution_count": 151,
   "metadata": {},
   "outputs": [
    {
     "data": {
      "text/plain": [
       "14.306342"
      ]
     },
     "execution_count": 151,
     "metadata": {},
     "output_type": "execute_result"
    }
   ],
   "source": [
    "np.array(mean_3).std()"
   ]
  },
  {
   "cell_type": "code",
   "execution_count": 153,
   "metadata": {},
   "outputs": [
    {
     "data": {
      "text/plain": [
       "20.079676"
      ]
     },
     "execution_count": 153,
     "metadata": {},
     "output_type": "execute_result"
    }
   ],
   "source": [
    "np.array(mean_3).mean()"
   ]
  },
  {
   "cell_type": "code",
   "execution_count": 156,
   "metadata": {},
   "outputs": [],
   "source": [
    "import matplotlib.pyplot as plt\n",
    "import numpy as np\n",
    "import scipy.stats as stats\n",
    "import math"
   ]
  },
  {
   "cell_type": "code",
   "execution_count": 157,
   "metadata": {},
   "outputs": [
    {
     "data": {
      "image/png": "[encoded data removed]",
      "text/plain": [
       "<Figure size 432x288 with 1 Axes>"
      ]
     },
     "metadata": {
      "needs_background": "light"
     },
     "output_type": "display_data"
    }
   ],
   "source": [
    "mu = 20.07\n",
    "variance = 14.30\n",
    "sigma = math.sqrt(variance)\n",
    "x = np.linspace(mu - 3*sigma, mu + 3*sigma, 100)\n",
    "plt.plot(x, stats.norm.pdf(x, mu, sigma))\n",
    "plt.show()\n"
   ]
  },
  {
   "cell_type": "code",
   "execution_count": null,
   "metadata": {},
   "outputs": [],
   "source": []
  }
 ],
 "metadata": {
  "interpreter": {
   "hash": "3b482dfd821cb8dfeea1ccce728da4cc1bbba95965d47bcaa17c0797b0d01736"
  },
  "kernelspec": {
   "display_name": "Python 3.9.7 ('Sem')",
   "language": "python",
   "name": "python3"
  },
  "language_info": {
   "codemirror_mode": {
    "name": "ipython",
    "version": 3
   },
   "file_extension": ".py",
   "mimetype": "text/x-python",
   "name": "python",
   "nbconvert_exporter": "python",
   "pygments_lexer": "ipython3",
   "version": "3.9.7"
  },
  "orig_nbformat": 4
 },
 "nbformat": 4,
 "nbformat_minor": 2
}
